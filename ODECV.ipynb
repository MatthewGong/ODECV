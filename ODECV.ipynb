{
 "cells": [
  {
   "cell_type": "markdown",
   "metadata": {},
   "source": [
    "The purpose of this project is to explore how to apply techniques\n",
    "from calculus of variations to image processing and computer vision problems.\n",
    "\n",
    "There are a few things that we need to define. There are several different ways to use differential equations in computer vision problems. We can treat the image itself as a 2D function of the form $u:\\Omega \\to \\mathbb{R}$, $\\Omega \\subset \\mathbb{R}^2$. However, in the process of image capture/creation noise or other kinds of distortion can occur, hence it is more accurate to define a digital image as $u_0 = \\alpha \\ast u + \\nu$, where $\\alpha$ denotes some blur and $\\nu$ is some additive noise, usually modelled as gaussian noise. In this case we're given $u_0$ to process and we wish to recover $u$ by using solving the inverse to the initial problem. A common way do this is minimize energy functionals of the form: F(u) = $\\frac{1}{2}\\int\\limits_\\Omega |u_0 - Ru|^2$ $dx$ + $ \\lambda \\int\\limits_\\Omega \\phi(|\\nabla u|) dx$. This first term $\\frac{1}{2}\\int\\limits_\\Omega |u_0 - Ru|^2$ $dx$ is called the fidelity portion of the energy functional and ensures that we don't alter the original image too much. The second term $ \\lambda \\int\\limits_\\Omega \\phi(|\\nabla u|) dx$ is the smoothing term which helps remove noise or blur. This has several limitations depending on the choice of $\\phi$ which we will explore in more detail later on.\n",
    "\n",
    "Another way to use PDE/ODE methods in computer vision is to define the video as sequences of captured images. A common algorithm that uses this is optical flow, which tracks movement and objects through a scene. Again, we define the image as $u:\\Omega \\to \\mathbb{R}$, $\\Omega \\subset \\mathbb{R}^2$, but now we have to add in a new term to account for the change in time, $\\Delta t$ and $k$. We define our video as $u+k\\Delta t$. \n",
    "\n",
    "We consider images to be a set of admissible functions\n",
    "$u:\\Omega \\to \\mathbb{R}$, $\\Omega \\subset \\mathbb{R}^2$"
   ]
  },
  {
   "cell_type": "markdown",
   "metadata": {},
   "source": []
  },
  {
   "cell_type": "markdown",
   "metadata": {},
   "source": []
  },
  {
   "cell_type": "markdown",
   "metadata": {},
   "source": [
    "$u:\\Omega \\to \\mathbb{R}$, $\\Omega \\subset \\mathbb{R}^2$"
   ]
  },
  {
   "cell_type": "code",
   "execution_count": null,
   "metadata": {
    "collapsed": true
   },
   "outputs": [],
   "source": []
  }
 ],
 "metadata": {
  "kernelspec": {
   "display_name": "Python 2",
   "language": "python",
   "name": "python2"
  },
  "language_info": {
   "codemirror_mode": {
    "name": "ipython",
    "version": 2
   },
   "file_extension": ".py",
   "mimetype": "text/x-python",
   "name": "python",
   "nbconvert_exporter": "python",
   "pygments_lexer": "ipython2",
   "version": "2.7.13"
  }
 },
 "nbformat": 4,
 "nbformat_minor": 2
}
